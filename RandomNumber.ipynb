{
 "cells": [
  {
   "cell_type": "code",
   "execution_count": 207,
   "id": "f98a051f",
   "metadata": {},
   "outputs": [],
   "source": [
    "import numpy as np\n",
    "\n",
    "def hopfield_prng(num_outputs, N=100, L=10, b=0.1, delta=0.01):\n",
    "    \"\"\"\n",
    "    Generates pseudo-random numbers using a Hopfield neural network\n",
    "    Parameters:\n",
    "    num_outputs: Number of random values to generate\n",
    "    N: Number of neurons (default=100)\n",
    "    L: Iterations per output (default=10)\n",
    "    b: Activation scaling factor (default=0.1)\n",
    "    delta: Weight perturbation magnitude (default=0.01)\n",
    "    \"\"\"\n",
    "    # Initialize asymmetric weight matrix\n",
    "    T = np.random.uniform(-1, 1, (N, N))\n",
    "    np.fill_diagonal(T, np.diag(T) * 2)  # Enhance diagonal\n",
    "    \n",
    "    # Initialize neuron states\n",
    "    V = np.random.uniform(-1, 1, N)\n",
    "    I = np.zeros(N)  # External input\n",
    "    \n",
    "    outputs = []\n",
    "    \n",
    "    for _ in range(num_outputs):\n",
    "        # Weight perturbation phase\n",
    "        T = T + delta * np.triu(np.ones((N, N))) - delta * np.tril(np.ones((N, N)), -1)\n",
    "        \n",
    "        # Neuron activation phase\n",
    "        for _ in range(L):\n",
    "            idx = np.random.choice(N, size=N//2 + 1, replace=False)\n",
    "            U = np.dot(T, V) - I\n",
    "            V[idx] = np.tanh(b * U[idx])\n",
    "        \n",
    "        # Random number extraction\n",
    "        scaled = np.sum(np.tanh(T @ V)) / (L * N)\n",
    "        fractional = (1000 * scaled) % 1\n",
    "        outputs.append(fractional)\n",
    "    \n",
    "    return outputs\n"
   ]
  },
  {
   "cell_type": "code",
   "execution_count": null,
   "id": "72336ca0",
   "metadata": {},
   "outputs": [],
   "source": [
    "def tm_hnn_prng(num_outputs):\n",
    "    \"\"\"\n",
    "    TMHNN PRNG\n",
    "    \"\"\"\n",
    "    # Chaotic system implementation would go here\n",
    "    # For brevity, showing the bit extraction method:\n",
    "    random_numbers = []\n",
    "    for _ in range(num_outputs):\n",
    "        # Generate chaotic state (simplified)\n",
    "        state = np.random.uniform(-10, 10)  # Prototype of TM-HNN equations\n",
    "        \n",
    "        # IEEE 754 conversion\n",
    "        float_bytes = np.float32(state).tobytes()\n",
    "        bits = ''.join(f'{byte:08b}' for byte in float_bytes)[16:32]  # Bits 17-32\n",
    "        random_numbers.append(int(bits, 2) / 65535.0)  # Normalize to [0,1)\n",
    "    \n",
    "    return random_numbers"
   ]
  },
  {
   "cell_type": "code",
   "execution_count": null,
   "id": "62c43c30",
   "metadata": {},
   "outputs": [],
   "source": [
    "def dbhnn_prng(num_outputs, μ=0.8, K=1000):\n",
    "    \"\"\"\n",
    "    DBHNN PRNG\n",
    "    μ: Internal decay coefficient (0.3, 0.6, 0.8, or 0.95)\n",
    "    K: Scaling constant\n",
    "    \"\"\"\n",
    "    # Initialize\n",
    "    x, y = np.random.uniform(-1, 1), np.random.uniform(-1, 1)\n",
    "    g11, g12, g21, g22 = 2, 2, -2, -2\n",
    "    outputs = []\n",
    "    \n",
    "    for _ in range(num_outputs):\n",
    "        # Update equations\n",
    "        x_new = μ * x + g11 * np.sin(x) + g12 * np.sin(y)\n",
    "        y_new = μ * y + g21 * np.sin(x) + g22 * np.sin(y)\n",
    "        x, y = x_new, y_new\n",
    "        \n",
    "        # Output transformation\n",
    "        Xm = (x + y) % 1\n",
    "        prng_output = int(Xm * K) % 256 / 255.0  # 8-bit output\n",
    "        outputs.append(prng_output)\n",
    "    \n",
    "    return outputs\n"
   ]
  },
  {
   "cell_type": "code",
   "execution_count": 210,
   "id": "d3bcdd4c",
   "metadata": {},
   "outputs": [],
   "source": [
    "import hashlib\n",
    "\n",
    "def hopfield_sha_prng(num_outputs):\n",
    "    \"\"\"\n",
    "    My Method : Hopfield + SHA-2 hashing\n",
    "    \"\"\"\n",
    "    # Generate raw sequence with canonical Hopfield\n",
    "    raw_sequence = hopfield_prng(num_outputs)\n",
    "    \n",
    "    # Convert to bytes and hash\n",
    "    byte_data = b''.join(int(val * 10**9).to_bytes(4, 'big') for val in raw_sequence)\n",
    "    hashed = hashlib.sha256(byte_data).digest()\n",
    "    \n",
    "    # Convert hash to float in [0,1)\n",
    "    return [int.from_bytes(hashed[i:i+4], 'big') / 2**32 for i in range(0, len(hashed), 4)][:num_outputs]\n"
   ]
  },
  {
   "cell_type": "code",
   "execution_count": 211,
   "id": "619e608d",
   "metadata": {},
   "outputs": [
    {
     "name": "stdout",
     "output_type": "stream",
     "text": [
      "[0.06018954505006757] \n",
      " [0.8447241931792172] \n",
      " [0.796078431372549] \n",
      " [0.8823925363831222]\n"
     ]
    }
   ],
   "source": [
    "# Canonical Hopfield\n",
    "random_nums = hopfield_prng(1)\n",
    "\n",
    "# TM-HNN variant\n",
    "tm_random = tm_hnn_prng(1)\n",
    "\n",
    "# DBHNN variant\n",
    "dbhnn_random = dbhnn_prng(1, μ=0.95)\n",
    "\n",
    "# Combined Hopfield+SHA2\n",
    "secure_random = hopfield_sha_prng(1)\n",
    "\n",
    "print(random_nums,'\\n',tm_random,'\\n',dbhnn_random,'\\n',secure_random)"
   ]
  }
 ],
 "metadata": {
  "kernelspec": {
   "display_name": "base",
   "language": "python",
   "name": "python3"
  },
  "language_info": {
   "codemirror_mode": {
    "name": "ipython",
    "version": 3
   },
   "file_extension": ".py",
   "mimetype": "text/x-python",
   "name": "python",
   "nbconvert_exporter": "python",
   "pygments_lexer": "ipython3",
   "version": "3.12.7"
  }
 },
 "nbformat": 4,
 "nbformat_minor": 5
}
